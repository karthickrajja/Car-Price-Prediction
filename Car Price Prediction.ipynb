{
 "cells": [
  {
   "cell_type": "code",
   "execution_count": 1,
   "id": "8e759e17",
   "metadata": {},
   "outputs": [],
   "source": [
    "import pandas as pd\n",
    "import numpy as np\n",
    "import matplotlib.pyplot as plt\n",
    "import seaborn as sns\n",
    "from warnings import filterwarnings\n",
    "filterwarnings('ignore')\n",
    "plt.rcParams['figure.figsize'] = (12, 7)\n",
    "\n",
    "import scipy\n",
    "from scipy.stats import ttest_ind"
   ]
  },
  {
   "cell_type": "code",
   "execution_count": 6,
   "id": "52b55284",
   "metadata": {},
   "outputs": [],
   "source": [
    "df = pd.read_csv(\"F:/datascientist/DATA/car_purchasing.csv\",encoding='latin-1')"
   ]
  },
  {
   "cell_type": "code",
   "execution_count": 7,
   "id": "5e8081f5",
   "metadata": {},
   "outputs": [
    {
     "data": {
      "text/html": [
       "<div>\n",
       "<style scoped>\n",
       "    .dataframe tbody tr th:only-of-type {\n",
       "        vertical-align: middle;\n",
       "    }\n",
       "\n",
       "    .dataframe tbody tr th {\n",
       "        vertical-align: top;\n",
       "    }\n",
       "\n",
       "    .dataframe thead th {\n",
       "        text-align: right;\n",
       "    }\n",
       "</style>\n",
       "<table border=\"1\" class=\"dataframe\">\n",
       "  <thead>\n",
       "    <tr style=\"text-align: right;\">\n",
       "      <th></th>\n",
       "      <th>customer name</th>\n",
       "      <th>customer e-mail</th>\n",
       "      <th>country</th>\n",
       "      <th>gender</th>\n",
       "      <th>age</th>\n",
       "      <th>annual Salary</th>\n",
       "      <th>credit card debt</th>\n",
       "      <th>net worth</th>\n",
       "      <th>car purchase amount</th>\n",
       "    </tr>\n",
       "  </thead>\n",
       "  <tbody>\n",
       "    <tr>\n",
       "      <th>0</th>\n",
       "      <td>Martina Avila</td>\n",
       "      <td>cubilia.Curae.Phasellus@quisaccumsanconvallis.edu</td>\n",
       "      <td>Bulgaria</td>\n",
       "      <td>0</td>\n",
       "      <td>41.851720</td>\n",
       "      <td>62812.09301</td>\n",
       "      <td>11609.380910</td>\n",
       "      <td>238961.2505</td>\n",
       "      <td>35321.45877</td>\n",
       "    </tr>\n",
       "    <tr>\n",
       "      <th>1</th>\n",
       "      <td>Harlan Barnes</td>\n",
       "      <td>eu.dolor@diam.co.uk</td>\n",
       "      <td>Belize</td>\n",
       "      <td>0</td>\n",
       "      <td>40.870623</td>\n",
       "      <td>66646.89292</td>\n",
       "      <td>9572.957136</td>\n",
       "      <td>530973.9078</td>\n",
       "      <td>45115.52566</td>\n",
       "    </tr>\n",
       "    <tr>\n",
       "      <th>2</th>\n",
       "      <td>Naomi Rodriquez</td>\n",
       "      <td>vulputate.mauris.sagittis@ametconsectetueradip...</td>\n",
       "      <td>Algeria</td>\n",
       "      <td>1</td>\n",
       "      <td>43.152897</td>\n",
       "      <td>53798.55112</td>\n",
       "      <td>11160.355060</td>\n",
       "      <td>638467.1773</td>\n",
       "      <td>42925.70921</td>\n",
       "    </tr>\n",
       "    <tr>\n",
       "      <th>3</th>\n",
       "      <td>Jade Cunningham</td>\n",
       "      <td>malesuada@dignissim.com</td>\n",
       "      <td>Cook Islands</td>\n",
       "      <td>1</td>\n",
       "      <td>58.271369</td>\n",
       "      <td>79370.03798</td>\n",
       "      <td>14426.164850</td>\n",
       "      <td>548599.0524</td>\n",
       "      <td>67422.36313</td>\n",
       "    </tr>\n",
       "    <tr>\n",
       "      <th>4</th>\n",
       "      <td>Cedric Leach</td>\n",
       "      <td>felis.ullamcorper.viverra@egetmollislectus.net</td>\n",
       "      <td>Brazil</td>\n",
       "      <td>1</td>\n",
       "      <td>57.313749</td>\n",
       "      <td>59729.15130</td>\n",
       "      <td>5358.712177</td>\n",
       "      <td>560304.0671</td>\n",
       "      <td>55915.46248</td>\n",
       "    </tr>\n",
       "    <tr>\n",
       "      <th>...</th>\n",
       "      <td>...</td>\n",
       "      <td>...</td>\n",
       "      <td>...</td>\n",
       "      <td>...</td>\n",
       "      <td>...</td>\n",
       "      <td>...</td>\n",
       "      <td>...</td>\n",
       "      <td>...</td>\n",
       "      <td>...</td>\n",
       "    </tr>\n",
       "    <tr>\n",
       "      <th>495</th>\n",
       "      <td>Walter</td>\n",
       "      <td>ligula@Cumsociis.ca</td>\n",
       "      <td>Nepal</td>\n",
       "      <td>0</td>\n",
       "      <td>41.462515</td>\n",
       "      <td>71942.40291</td>\n",
       "      <td>6995.902524</td>\n",
       "      <td>541670.1016</td>\n",
       "      <td>48901.44342</td>\n",
       "    </tr>\n",
       "    <tr>\n",
       "      <th>496</th>\n",
       "      <td>Vanna</td>\n",
       "      <td>Cum.sociis.natoque@Sedmolestie.edu</td>\n",
       "      <td>Zimbabwe</td>\n",
       "      <td>1</td>\n",
       "      <td>37.642000</td>\n",
       "      <td>56039.49793</td>\n",
       "      <td>12301.456790</td>\n",
       "      <td>360419.0988</td>\n",
       "      <td>31491.41457</td>\n",
       "    </tr>\n",
       "    <tr>\n",
       "      <th>497</th>\n",
       "      <td>Pearl</td>\n",
       "      <td>penatibus.et@massanonante.com</td>\n",
       "      <td>Philippines</td>\n",
       "      <td>1</td>\n",
       "      <td>53.943497</td>\n",
       "      <td>68888.77805</td>\n",
       "      <td>10611.606860</td>\n",
       "      <td>764531.3203</td>\n",
       "      <td>64147.28888</td>\n",
       "    </tr>\n",
       "    <tr>\n",
       "      <th>498</th>\n",
       "      <td>Nell</td>\n",
       "      <td>Quisque.varius@arcuVivamussit.net</td>\n",
       "      <td>Botswana</td>\n",
       "      <td>1</td>\n",
       "      <td>59.160509</td>\n",
       "      <td>49811.99062</td>\n",
       "      <td>14013.034510</td>\n",
       "      <td>337826.6382</td>\n",
       "      <td>45442.15353</td>\n",
       "    </tr>\n",
       "    <tr>\n",
       "      <th>499</th>\n",
       "      <td>Marla</td>\n",
       "      <td>Camaron.marla@hotmail.com</td>\n",
       "      <td>marlal</td>\n",
       "      <td>1</td>\n",
       "      <td>46.731152</td>\n",
       "      <td>61370.67766</td>\n",
       "      <td>9391.341628</td>\n",
       "      <td>462946.4924</td>\n",
       "      <td>45107.22566</td>\n",
       "    </tr>\n",
       "  </tbody>\n",
       "</table>\n",
       "<p>500 rows × 9 columns</p>\n",
       "</div>"
      ],
      "text/plain": [
       "       customer name                                    customer e-mail  \\\n",
       "0      Martina Avila  cubilia.Curae.Phasellus@quisaccumsanconvallis.edu   \n",
       "1      Harlan Barnes                                eu.dolor@diam.co.uk   \n",
       "2    Naomi Rodriquez  vulputate.mauris.sagittis@ametconsectetueradip...   \n",
       "3    Jade Cunningham                            malesuada@dignissim.com   \n",
       "4       Cedric Leach     felis.ullamcorper.viverra@egetmollislectus.net   \n",
       "..               ...                                                ...   \n",
       "495           Walter                                ligula@Cumsociis.ca   \n",
       "496            Vanna                 Cum.sociis.natoque@Sedmolestie.edu   \n",
       "497            Pearl                      penatibus.et@massanonante.com   \n",
       "498             Nell                  Quisque.varius@arcuVivamussit.net   \n",
       "499            Marla                          Camaron.marla@hotmail.com   \n",
       "\n",
       "          country  gender        age  annual Salary  credit card debt  \\\n",
       "0        Bulgaria       0  41.851720    62812.09301      11609.380910   \n",
       "1          Belize       0  40.870623    66646.89292       9572.957136   \n",
       "2         Algeria       1  43.152897    53798.55112      11160.355060   \n",
       "3    Cook Islands       1  58.271369    79370.03798      14426.164850   \n",
       "4          Brazil       1  57.313749    59729.15130       5358.712177   \n",
       "..            ...     ...        ...            ...               ...   \n",
       "495         Nepal       0  41.462515    71942.40291       6995.902524   \n",
       "496      Zimbabwe       1  37.642000    56039.49793      12301.456790   \n",
       "497   Philippines       1  53.943497    68888.77805      10611.606860   \n",
       "498      Botswana       1  59.160509    49811.99062      14013.034510   \n",
       "499        marlal       1  46.731152    61370.67766       9391.341628   \n",
       "\n",
       "       net worth  car purchase amount  \n",
       "0    238961.2505          35321.45877  \n",
       "1    530973.9078          45115.52566  \n",
       "2    638467.1773          42925.70921  \n",
       "3    548599.0524          67422.36313  \n",
       "4    560304.0671          55915.46248  \n",
       "..           ...                  ...  \n",
       "495  541670.1016          48901.44342  \n",
       "496  360419.0988          31491.41457  \n",
       "497  764531.3203          64147.28888  \n",
       "498  337826.6382          45442.15353  \n",
       "499  462946.4924          45107.22566  \n",
       "\n",
       "[500 rows x 9 columns]"
      ]
     },
     "execution_count": 7,
     "metadata": {},
     "output_type": "execute_result"
    }
   ],
   "source": [
    "df"
   ]
  },
  {
   "cell_type": "code",
   "execution_count": 8,
   "id": "b1a3cc30",
   "metadata": {},
   "outputs": [
    {
     "name": "stdout",
     "output_type": "stream",
     "text": [
      "<class 'pandas.core.frame.DataFrame'>\n",
      "RangeIndex: 500 entries, 0 to 499\n",
      "Data columns (total 9 columns):\n",
      " #   Column               Non-Null Count  Dtype  \n",
      "---  ------               --------------  -----  \n",
      " 0   customer name        500 non-null    object \n",
      " 1   customer e-mail      500 non-null    object \n",
      " 2   country              500 non-null    object \n",
      " 3   gender               500 non-null    int64  \n",
      " 4   age                  500 non-null    float64\n",
      " 5   annual Salary        500 non-null    float64\n",
      " 6   credit card debt     500 non-null    float64\n",
      " 7   net worth            500 non-null    float64\n",
      " 8   car purchase amount  500 non-null    float64\n",
      "dtypes: float64(5), int64(1), object(3)\n",
      "memory usage: 35.3+ KB\n"
     ]
    }
   ],
   "source": [
    "df.info()"
   ]
  },
  {
   "cell_type": "code",
   "execution_count": 9,
   "id": "afe55498",
   "metadata": {},
   "outputs": [],
   "source": [
    "# Checking for Null values"
   ]
  },
  {
   "cell_type": "code",
   "execution_count": 11,
   "id": "fc27d72d",
   "metadata": {},
   "outputs": [
    {
     "data": {
      "text/plain": [
       "customer name          0\n",
       "customer e-mail        0\n",
       "country                0\n",
       "gender                 0\n",
       "age                    0\n",
       "annual Salary          0\n",
       "credit card debt       0\n",
       "net worth              0\n",
       "car purchase amount    0\n",
       "dtype: int64"
      ]
     },
     "execution_count": 11,
     "metadata": {},
     "output_type": "execute_result"
    }
   ],
   "source": [
    "df.isnull().sum()"
   ]
  },
  {
   "cell_type": "markdown",
   "id": "b43d06db",
   "metadata": {},
   "source": [
    "### No null values in dataset"
   ]
  },
  {
   "cell_type": "markdown",
   "id": "c7604245",
   "metadata": {},
   "source": [
    " df.nunique()"
   ]
  },
  {
   "cell_type": "code",
   "execution_count": 16,
   "id": "cc4cd7d7",
   "metadata": {},
   "outputs": [],
   "source": [
    "#Removing customer name, customer e-mail from datset\n",
    "df = df.drop([\"customer name\",\"customer e-mail\"],axis=1)"
   ]
  },
  {
   "cell_type": "markdown",
   "id": "7936ff9f",
   "metadata": {},
   "source": [
    "### Understanding the Variables"
   ]
  },
  {
   "cell_type": "code",
   "execution_count": 17,
   "id": "30ad0f75",
   "metadata": {},
   "outputs": [
    {
     "data": {
      "text/html": [
       "<div>\n",
       "<style scoped>\n",
       "    .dataframe tbody tr th:only-of-type {\n",
       "        vertical-align: middle;\n",
       "    }\n",
       "\n",
       "    .dataframe tbody tr th {\n",
       "        vertical-align: top;\n",
       "    }\n",
       "\n",
       "    .dataframe thead th {\n",
       "        text-align: right;\n",
       "    }\n",
       "</style>\n",
       "<table border=\"1\" class=\"dataframe\">\n",
       "  <thead>\n",
       "    <tr style=\"text-align: right;\">\n",
       "      <th></th>\n",
       "      <th>country</th>\n",
       "      <th>gender</th>\n",
       "      <th>age</th>\n",
       "      <th>annual Salary</th>\n",
       "      <th>credit card debt</th>\n",
       "      <th>net worth</th>\n",
       "      <th>car purchase amount</th>\n",
       "    </tr>\n",
       "  </thead>\n",
       "  <tbody>\n",
       "    <tr>\n",
       "      <th>0</th>\n",
       "      <td>Bulgaria</td>\n",
       "      <td>0</td>\n",
       "      <td>41.851720</td>\n",
       "      <td>62812.09301</td>\n",
       "      <td>11609.380910</td>\n",
       "      <td>238961.2505</td>\n",
       "      <td>35321.45877</td>\n",
       "    </tr>\n",
       "    <tr>\n",
       "      <th>1</th>\n",
       "      <td>Belize</td>\n",
       "      <td>0</td>\n",
       "      <td>40.870623</td>\n",
       "      <td>66646.89292</td>\n",
       "      <td>9572.957136</td>\n",
       "      <td>530973.9078</td>\n",
       "      <td>45115.52566</td>\n",
       "    </tr>\n",
       "    <tr>\n",
       "      <th>2</th>\n",
       "      <td>Algeria</td>\n",
       "      <td>1</td>\n",
       "      <td>43.152897</td>\n",
       "      <td>53798.55112</td>\n",
       "      <td>11160.355060</td>\n",
       "      <td>638467.1773</td>\n",
       "      <td>42925.70921</td>\n",
       "    </tr>\n",
       "    <tr>\n",
       "      <th>3</th>\n",
       "      <td>Cook Islands</td>\n",
       "      <td>1</td>\n",
       "      <td>58.271369</td>\n",
       "      <td>79370.03798</td>\n",
       "      <td>14426.164850</td>\n",
       "      <td>548599.0524</td>\n",
       "      <td>67422.36313</td>\n",
       "    </tr>\n",
       "    <tr>\n",
       "      <th>4</th>\n",
       "      <td>Brazil</td>\n",
       "      <td>1</td>\n",
       "      <td>57.313749</td>\n",
       "      <td>59729.15130</td>\n",
       "      <td>5358.712177</td>\n",
       "      <td>560304.0671</td>\n",
       "      <td>55915.46248</td>\n",
       "    </tr>\n",
       "    <tr>\n",
       "      <th>...</th>\n",
       "      <td>...</td>\n",
       "      <td>...</td>\n",
       "      <td>...</td>\n",
       "      <td>...</td>\n",
       "      <td>...</td>\n",
       "      <td>...</td>\n",
       "      <td>...</td>\n",
       "    </tr>\n",
       "    <tr>\n",
       "      <th>495</th>\n",
       "      <td>Nepal</td>\n",
       "      <td>0</td>\n",
       "      <td>41.462515</td>\n",
       "      <td>71942.40291</td>\n",
       "      <td>6995.902524</td>\n",
       "      <td>541670.1016</td>\n",
       "      <td>48901.44342</td>\n",
       "    </tr>\n",
       "    <tr>\n",
       "      <th>496</th>\n",
       "      <td>Zimbabwe</td>\n",
       "      <td>1</td>\n",
       "      <td>37.642000</td>\n",
       "      <td>56039.49793</td>\n",
       "      <td>12301.456790</td>\n",
       "      <td>360419.0988</td>\n",
       "      <td>31491.41457</td>\n",
       "    </tr>\n",
       "    <tr>\n",
       "      <th>497</th>\n",
       "      <td>Philippines</td>\n",
       "      <td>1</td>\n",
       "      <td>53.943497</td>\n",
       "      <td>68888.77805</td>\n",
       "      <td>10611.606860</td>\n",
       "      <td>764531.3203</td>\n",
       "      <td>64147.28888</td>\n",
       "    </tr>\n",
       "    <tr>\n",
       "      <th>498</th>\n",
       "      <td>Botswana</td>\n",
       "      <td>1</td>\n",
       "      <td>59.160509</td>\n",
       "      <td>49811.99062</td>\n",
       "      <td>14013.034510</td>\n",
       "      <td>337826.6382</td>\n",
       "      <td>45442.15353</td>\n",
       "    </tr>\n",
       "    <tr>\n",
       "      <th>499</th>\n",
       "      <td>marlal</td>\n",
       "      <td>1</td>\n",
       "      <td>46.731152</td>\n",
       "      <td>61370.67766</td>\n",
       "      <td>9391.341628</td>\n",
       "      <td>462946.4924</td>\n",
       "      <td>45107.22566</td>\n",
       "    </tr>\n",
       "  </tbody>\n",
       "</table>\n",
       "<p>500 rows × 7 columns</p>\n",
       "</div>"
      ],
      "text/plain": [
       "          country  gender        age  annual Salary  credit card debt  \\\n",
       "0        Bulgaria       0  41.851720    62812.09301      11609.380910   \n",
       "1          Belize       0  40.870623    66646.89292       9572.957136   \n",
       "2         Algeria       1  43.152897    53798.55112      11160.355060   \n",
       "3    Cook Islands       1  58.271369    79370.03798      14426.164850   \n",
       "4          Brazil       1  57.313749    59729.15130       5358.712177   \n",
       "..            ...     ...        ...            ...               ...   \n",
       "495         Nepal       0  41.462515    71942.40291       6995.902524   \n",
       "496      Zimbabwe       1  37.642000    56039.49793      12301.456790   \n",
       "497   Philippines       1  53.943497    68888.77805      10611.606860   \n",
       "498      Botswana       1  59.160509    49811.99062      14013.034510   \n",
       "499        marlal       1  46.731152    61370.67766       9391.341628   \n",
       "\n",
       "       net worth  car purchase amount  \n",
       "0    238961.2505          35321.45877  \n",
       "1    530973.9078          45115.52566  \n",
       "2    638467.1773          42925.70921  \n",
       "3    548599.0524          67422.36313  \n",
       "4    560304.0671          55915.46248  \n",
       "..           ...                  ...  \n",
       "495  541670.1016          48901.44342  \n",
       "496  360419.0988          31491.41457  \n",
       "497  764531.3203          64147.28888  \n",
       "498  337826.6382          45442.15353  \n",
       "499  462946.4924          45107.22566  \n",
       "\n",
       "[500 rows x 7 columns]"
      ]
     },
     "execution_count": 17,
     "metadata": {},
     "output_type": "execute_result"
    }
   ],
   "source": [
    "df"
   ]
  },
  {
   "cell_type": "code",
   "execution_count": 20,
   "id": "fa1f59ee",
   "metadata": {},
   "outputs": [],
   "source": [
    "kd = df.groupby(\"country\")[\"car purchase amount\"]"
   ]
  },
  {
   "cell_type": "code",
   "execution_count": 28,
   "id": "1ca8ba7c",
   "metadata": {},
   "outputs": [
    {
     "data": {
      "text/plain": [
       "country\n",
       "Afghanistan       56017.850725\n",
       "Algeria           47752.068330\n",
       "American Samoa    24221.999370\n",
       "Andorra           39239.699943\n",
       "Angola            44498.000075\n",
       "                      ...     \n",
       "Western Sahara    44318.569955\n",
       "Yemen             52960.391330\n",
       "Zimbabwe          34602.865580\n",
       "marlal            45107.225660\n",
       "Åland Islands     51012.696863\n",
       "Name: car purchase amount, Length: 211, dtype: float64"
      ]
     },
     "execution_count": 28,
     "metadata": {},
     "output_type": "execute_result"
    }
   ],
   "source": [
    "kd.mean()"
   ]
  },
  {
   "cell_type": "code",
   "execution_count": 38,
   "id": "48555000",
   "metadata": {},
   "outputs": [
    {
     "data": {
      "text/plain": [
       "(array([  2.,   6.,  30.,  66., 120., 111.,  89.,  53.,  20.,   3.]),\n",
       " array([20., 25., 30., 35., 40., 45., 50., 55., 60., 65., 70.]),\n",
       " <BarContainer object of 10 artists>)"
      ]
     },
     "execution_count": 38,
     "metadata": {},
     "output_type": "execute_result"
    },
    {
     "data": {
      "image/png": "[encoded data removed]",
      "text/plain": [
       "<Figure size 864x504 with 1 Axes>"
      ]
     },
     "metadata": {
      "needs_background": "light"
     },
     "output_type": "display_data"
    }
   ],
   "source": [
    "plt.hist(df.age, 10)"
   ]
  },
  {
   "cell_type": "code",
   "execution_count": 42,
   "id": "6afbc206",
   "metadata": {},
   "outputs": [
    {
     "data": {
      "text/html": [
       "<div>\n",
       "<style scoped>\n",
       "    .dataframe tbody tr th:only-of-type {\n",
       "        vertical-align: middle;\n",
       "    }\n",
       "\n",
       "    .dataframe tbody tr th {\n",
       "        vertical-align: top;\n",
       "    }\n",
       "\n",
       "    .dataframe thead th {\n",
       "        text-align: right;\n",
       "    }\n",
       "</style>\n",
       "<table border=\"1\" class=\"dataframe\">\n",
       "  <thead>\n",
       "    <tr style=\"text-align: right;\">\n",
       "      <th></th>\n",
       "      <th>gender</th>\n",
       "      <th>age</th>\n",
       "      <th>annual Salary</th>\n",
       "      <th>credit card debt</th>\n",
       "      <th>net worth</th>\n",
       "      <th>car purchase amount</th>\n",
       "    </tr>\n",
       "  </thead>\n",
       "  <tbody>\n",
       "    <tr>\n",
       "      <th>count</th>\n",
       "      <td>500.000000</td>\n",
       "      <td>500.000000</td>\n",
       "      <td>500.000000</td>\n",
       "      <td>500.000000</td>\n",
       "      <td>500.000000</td>\n",
       "      <td>500.000000</td>\n",
       "    </tr>\n",
       "    <tr>\n",
       "      <th>mean</th>\n",
       "      <td>0.506000</td>\n",
       "      <td>46.241674</td>\n",
       "      <td>62127.239608</td>\n",
       "      <td>9607.645049</td>\n",
       "      <td>431475.713625</td>\n",
       "      <td>44209.799218</td>\n",
       "    </tr>\n",
       "    <tr>\n",
       "      <th>std</th>\n",
       "      <td>0.500465</td>\n",
       "      <td>7.978862</td>\n",
       "      <td>11703.378228</td>\n",
       "      <td>3489.187973</td>\n",
       "      <td>173536.756340</td>\n",
       "      <td>10773.178744</td>\n",
       "    </tr>\n",
       "    <tr>\n",
       "      <th>min</th>\n",
       "      <td>0.000000</td>\n",
       "      <td>20.000000</td>\n",
       "      <td>20000.000000</td>\n",
       "      <td>100.000000</td>\n",
       "      <td>20000.000000</td>\n",
       "      <td>9000.000000</td>\n",
       "    </tr>\n",
       "    <tr>\n",
       "      <th>25%</th>\n",
       "      <td>0.000000</td>\n",
       "      <td>40.949969</td>\n",
       "      <td>54391.977195</td>\n",
       "      <td>7397.515792</td>\n",
       "      <td>299824.195900</td>\n",
       "      <td>37629.896040</td>\n",
       "    </tr>\n",
       "    <tr>\n",
       "      <th>50%</th>\n",
       "      <td>1.000000</td>\n",
       "      <td>46.049901</td>\n",
       "      <td>62915.497035</td>\n",
       "      <td>9655.035568</td>\n",
       "      <td>426750.120650</td>\n",
       "      <td>43997.783390</td>\n",
       "    </tr>\n",
       "    <tr>\n",
       "      <th>75%</th>\n",
       "      <td>1.000000</td>\n",
       "      <td>51.612263</td>\n",
       "      <td>70117.862005</td>\n",
       "      <td>11798.867487</td>\n",
       "      <td>557324.478725</td>\n",
       "      <td>51254.709517</td>\n",
       "    </tr>\n",
       "    <tr>\n",
       "      <th>max</th>\n",
       "      <td>1.000000</td>\n",
       "      <td>70.000000</td>\n",
       "      <td>100000.000000</td>\n",
       "      <td>20000.000000</td>\n",
       "      <td>1000000.000000</td>\n",
       "      <td>80000.000000</td>\n",
       "    </tr>\n",
       "  </tbody>\n",
       "</table>\n",
       "</div>"
      ],
      "text/plain": [
       "           gender         age  annual Salary  credit card debt  \\\n",
       "count  500.000000  500.000000     500.000000        500.000000   \n",
       "mean     0.506000   46.241674   62127.239608       9607.645049   \n",
       "std      0.500465    7.978862   11703.378228       3489.187973   \n",
       "min      0.000000   20.000000   20000.000000        100.000000   \n",
       "25%      0.000000   40.949969   54391.977195       7397.515792   \n",
       "50%      1.000000   46.049901   62915.497035       9655.035568   \n",
       "75%      1.000000   51.612263   70117.862005      11798.867487   \n",
       "max      1.000000   70.000000  100000.000000      20000.000000   \n",
       "\n",
       "            net worth  car purchase amount  \n",
       "count      500.000000           500.000000  \n",
       "mean    431475.713625         44209.799218  \n",
       "std     173536.756340         10773.178744  \n",
       "min      20000.000000          9000.000000  \n",
       "25%     299824.195900         37629.896040  \n",
       "50%     426750.120650         43997.783390  \n",
       "75%     557324.478725         51254.709517  \n",
       "max    1000000.000000         80000.000000  "
      ]
     },
     "execution_count": 42,
     "metadata": {},
     "output_type": "execute_result"
    }
   ],
   "source": [
    "df.describe()"
   ]
  },
  {
   "cell_type": "code",
   "execution_count": 43,
   "id": "0d6da297",
   "metadata": {},
   "outputs": [
    {
     "data": {
      "text/plain": [
       "(array([1.35211268e-06, 1.35211268e-06, 4.39436620e-06, 1.82535211e-05,\n",
       "        2.40000000e-05, 3.85352113e-05, 3.54929577e-05, 2.26478873e-05,\n",
       "        1.45352113e-05, 6.42253521e-06, 1.69014085e-06, 3.38028169e-07]),\n",
       " array([ 9000.        , 14916.66666667, 20833.33333333, 26750.        ,\n",
       "        32666.66666667, 38583.33333333, 44500.        , 50416.66666667,\n",
       "        56333.33333333, 62250.        , 68166.66666667, 74083.33333333,\n",
       "        80000.        ]),\n",
       " <BarContainer object of 12 artists>)"
      ]
     },
     "execution_count": 43,
     "metadata": {},
     "output_type": "execute_result"
    },
    {
     "data": {
      "image/png": "[encoded data removed]",
      "text/plain": [
       "<Figure size 864x504 with 1 Axes>"
      ]
     },
     "metadata": {
      "needs_background": "light"
     },
     "output_type": "display_data"
    }
   ],
   "source": [
    "plt.hist(df[\"car purchase amount\"], 12,density=True)"
   ]
  },
  {
   "cell_type": "code",
   "execution_count": 45,
   "id": "cb98a1bc",
   "metadata": {},
   "outputs": [
    {
     "data": {
      "text/plain": [
       "(array([ 12.,  43.,  78., 106.,  90.,  89.,  53.,  20.,   8.,   1.]),\n",
       " array([  20000.,  118000.,  216000.,  314000.,  412000.,  510000.,\n",
       "         608000.,  706000.,  804000.,  902000., 1000000.]),\n",
       " <BarContainer object of 10 artists>)"
      ]
     },
     "execution_count": 45,
     "metadata": {},
     "output_type": "execute_result"
    },
    {
     "data": {
      "image/png": "[encoded data removed]",
      "text/plain": [
       "<Figure size 864x504 with 1 Axes>"
      ]
     },
     "metadata": {
      "needs_background": "light"
     },
     "output_type": "display_data"
    }
   ],
   "source": [
    "plt.hist(df[\"net worth\"])"
   ]
  },
  {
   "cell_type": "code",
   "execution_count": 47,
   "id": "fc65f814",
   "metadata": {},
   "outputs": [
    {
     "data": {
      "text/plain": [
       "Text(0, 0.5, 'car purchase amount')"
      ]
     },
     "execution_count": 47,
     "metadata": {},
     "output_type": "execute_result"
    },
    {
     "data": {
      "image/png": "[encoded data removed]",
      "text/plain": [
       "<Figure size 864x504 with 1 Axes>"
      ]
     },
     "metadata": {
      "needs_background": "light"
     },
     "output_type": "display_data"
    }
   ],
   "source": [
    "plt.scatter(df[\"net worth\"],df[\"car purchase amount\"])\n",
    "plt.xlabel(\"net worth\")\n",
    "plt.ylabel(\"car purchase amount\")"
   ]
  },
  {
   "cell_type": "code",
   "execution_count": 48,
   "id": "5f72d788",
   "metadata": {},
   "outputs": [
    {
     "data": {
      "text/plain": [
       "Text(0, 0.5, 'car purchase amount')"
      ]
     },
     "execution_count": 48,
     "metadata": {},
     "output_type": "execute_result"
    },
    {
     "data": {
      "image/png": "[encoded data removed]",
      "text/plain": [
       "<Figure size 864x504 with 1 Axes>"
      ]
     },
     "metadata": {
      "needs_background": "light"
     },
     "output_type": "display_data"
    }
   ],
   "source": [
    "plt.scatter(df[\"age\"],df[\"car purchase amount\"])\n",
    "plt.xlabel(\"age\")\n",
    "plt.ylabel(\"car purchase amount\")"
   ]
  },
  {
   "cell_type": "code",
   "execution_count": 50,
   "id": "1467f4e2",
   "metadata": {},
   "outputs": [
    {
     "data": {
      "text/html": [
       "<div>\n",
       "<style scoped>\n",
       "    .dataframe tbody tr th:only-of-type {\n",
       "        vertical-align: middle;\n",
       "    }\n",
       "\n",
       "    .dataframe tbody tr th {\n",
       "        vertical-align: top;\n",
       "    }\n",
       "\n",
       "    .dataframe thead th {\n",
       "        text-align: right;\n",
       "    }\n",
       "</style>\n",
       "<table border=\"1\" class=\"dataframe\">\n",
       "  <thead>\n",
       "    <tr style=\"text-align: right;\">\n",
       "      <th></th>\n",
       "      <th>gender</th>\n",
       "      <th>age</th>\n",
       "      <th>annual Salary</th>\n",
       "      <th>credit card debt</th>\n",
       "      <th>net worth</th>\n",
       "      <th>car purchase amount</th>\n",
       "    </tr>\n",
       "  </thead>\n",
       "  <tbody>\n",
       "    <tr>\n",
       "      <th>gender</th>\n",
       "      <td>1.000000</td>\n",
       "      <td>-0.064481</td>\n",
       "      <td>-0.036499</td>\n",
       "      <td>0.024193</td>\n",
       "      <td>-0.008395</td>\n",
       "      <td>-0.066408</td>\n",
       "    </tr>\n",
       "    <tr>\n",
       "      <th>age</th>\n",
       "      <td>-0.064481</td>\n",
       "      <td>1.000000</td>\n",
       "      <td>0.000130</td>\n",
       "      <td>0.034721</td>\n",
       "      <td>0.020356</td>\n",
       "      <td>0.632865</td>\n",
       "    </tr>\n",
       "    <tr>\n",
       "      <th>annual Salary</th>\n",
       "      <td>-0.036499</td>\n",
       "      <td>0.000130</td>\n",
       "      <td>1.000000</td>\n",
       "      <td>0.049599</td>\n",
       "      <td>0.014767</td>\n",
       "      <td>0.617862</td>\n",
       "    </tr>\n",
       "    <tr>\n",
       "      <th>credit card debt</th>\n",
       "      <td>0.024193</td>\n",
       "      <td>0.034721</td>\n",
       "      <td>0.049599</td>\n",
       "      <td>1.000000</td>\n",
       "      <td>-0.049378</td>\n",
       "      <td>0.028882</td>\n",
       "    </tr>\n",
       "    <tr>\n",
       "      <th>net worth</th>\n",
       "      <td>-0.008395</td>\n",
       "      <td>0.020356</td>\n",
       "      <td>0.014767</td>\n",
       "      <td>-0.049378</td>\n",
       "      <td>1.000000</td>\n",
       "      <td>0.488580</td>\n",
       "    </tr>\n",
       "    <tr>\n",
       "      <th>car purchase amount</th>\n",
       "      <td>-0.066408</td>\n",
       "      <td>0.632865</td>\n",
       "      <td>0.617862</td>\n",
       "      <td>0.028882</td>\n",
       "      <td>0.488580</td>\n",
       "      <td>1.000000</td>\n",
       "    </tr>\n",
       "  </tbody>\n",
       "</table>\n",
       "</div>"
      ],
      "text/plain": [
       "                       gender       age  annual Salary  credit card debt  \\\n",
       "gender               1.000000 -0.064481      -0.036499          0.024193   \n",
       "age                 -0.064481  1.000000       0.000130          0.034721   \n",
       "annual Salary       -0.036499  0.000130       1.000000          0.049599   \n",
       "credit card debt     0.024193  0.034721       0.049599          1.000000   \n",
       "net worth           -0.008395  0.020356       0.014767         -0.049378   \n",
       "car purchase amount -0.066408  0.632865       0.617862          0.028882   \n",
       "\n",
       "                     net worth  car purchase amount  \n",
       "gender               -0.008395            -0.066408  \n",
       "age                   0.020356             0.632865  \n",
       "annual Salary         0.014767             0.617862  \n",
       "credit card debt     -0.049378             0.028882  \n",
       "net worth             1.000000             0.488580  \n",
       "car purchase amount   0.488580             1.000000  "
      ]
     },
     "execution_count": 50,
     "metadata": {},
     "output_type": "execute_result"
    }
   ],
   "source": [
    "df.corr()"
   ]
  },
  {
   "cell_type": "code",
   "execution_count": 53,
   "id": "27a043c8",
   "metadata": {},
   "outputs": [
    {
     "data": {
      "text/plain": [
       "country                211\n",
       "gender                   2\n",
       "age                    500\n",
       "annual Salary          500\n",
       "credit card debt       500\n",
       "net worth              500\n",
       "car purchase amount    500\n",
       "dtype: int64"
      ]
     },
     "execution_count": 53,
     "metadata": {},
     "output_type": "execute_result"
    }
   ],
   "source": [
    "df.nunique()"
   ]
  },
  {
   "cell_type": "markdown",
   "id": "956cd191",
   "metadata": {},
   "source": [
    "### Annual Salary,net worth has co_relation with car purchase amount"
   ]
  },
  {
   "cell_type": "code",
   "execution_count": 51,
   "id": "af27e5e4",
   "metadata": {},
   "outputs": [],
   "source": [
    "from scipy import stats\n",
    "import statsmodels.api as sm\n",
    "from statsmodels.formula.api import ols\n",
    "from statsmodels.stats.multicomp import pairwise_tukeyhsd\n",
    "from scipy.stats import chi2, chi2_contingency\n",
    "import scipy"
   ]
  },
  {
   "cell_type": "code",
   "execution_count": 56,
   "id": "6d7d4003",
   "metadata": {},
   "outputs": [],
   "source": [
    "df.rename(columns={\"car purchase amount\":\"purchase_amount\"},inplace=True)"
   ]
  },
  {
   "cell_type": "markdown",
   "id": "7f7d1e42",
   "metadata": {},
   "source": [
    "### Checking P values"
   ]
  },
  {
   "cell_type": "code",
   "execution_count": 57,
   "id": "bd24761e",
   "metadata": {},
   "outputs": [
    {
     "data": {
      "text/html": [
       "<div>\n",
       "<style scoped>\n",
       "    .dataframe tbody tr th:only-of-type {\n",
       "        vertical-align: middle;\n",
       "    }\n",
       "\n",
       "    .dataframe tbody tr th {\n",
       "        vertical-align: top;\n",
       "    }\n",
       "\n",
       "    .dataframe thead th {\n",
       "        text-align: right;\n",
       "    }\n",
       "</style>\n",
       "<table border=\"1\" class=\"dataframe\">\n",
       "  <thead>\n",
       "    <tr style=\"text-align: right;\">\n",
       "      <th></th>\n",
       "      <th>df</th>\n",
       "      <th>sum_sq</th>\n",
       "      <th>mean_sq</th>\n",
       "      <th>F</th>\n",
       "      <th>PR(&gt;F)</th>\n",
       "    </tr>\n",
       "  </thead>\n",
       "  <tbody>\n",
       "    <tr>\n",
       "      <th>country</th>\n",
       "      <td>210.0</td>\n",
       "      <td>2.658367e+10</td>\n",
       "      <td>1.265889e+08</td>\n",
       "      <td>1.167669</td>\n",
       "      <td>0.111479</td>\n",
       "    </tr>\n",
       "    <tr>\n",
       "      <th>Residual</th>\n",
       "      <td>289.0</td>\n",
       "      <td>3.133096e+10</td>\n",
       "      <td>1.084116e+08</td>\n",
       "      <td>NaN</td>\n",
       "      <td>NaN</td>\n",
       "    </tr>\n",
       "  </tbody>\n",
       "</table>\n",
       "</div>"
      ],
      "text/plain": [
       "             df        sum_sq       mean_sq         F    PR(>F)\n",
       "country   210.0  2.658367e+10  1.265889e+08  1.167669  0.111479\n",
       "Residual  289.0  3.133096e+10  1.084116e+08       NaN       NaN"
      ]
     },
     "execution_count": 57,
     "metadata": {},
     "output_type": "execute_result"
    }
   ],
   "source": [
    "base = ols(\"purchase_amount  ~ country  \", data = df).fit()\n",
    "sm.stats.anova_lm(base)"
   ]
  },
  {
   "cell_type": "code",
   "execution_count": 58,
   "id": "5b17a44d",
   "metadata": {},
   "outputs": [
    {
     "data": {
      "text/html": [
       "<div>\n",
       "<style scoped>\n",
       "    .dataframe tbody tr th:only-of-type {\n",
       "        vertical-align: middle;\n",
       "    }\n",
       "\n",
       "    .dataframe tbody tr th {\n",
       "        vertical-align: top;\n",
       "    }\n",
       "\n",
       "    .dataframe thead th {\n",
       "        text-align: right;\n",
       "    }\n",
       "</style>\n",
       "<table border=\"1\" class=\"dataframe\">\n",
       "  <thead>\n",
       "    <tr style=\"text-align: right;\">\n",
       "      <th></th>\n",
       "      <th>df</th>\n",
       "      <th>sum_sq</th>\n",
       "      <th>mean_sq</th>\n",
       "      <th>F</th>\n",
       "      <th>PR(&gt;F)</th>\n",
       "    </tr>\n",
       "  </thead>\n",
       "  <tbody>\n",
       "    <tr>\n",
       "      <th>gender</th>\n",
       "      <td>1.0</td>\n",
       "      <td>2.554010e+08</td>\n",
       "      <td>2.554010e+08</td>\n",
       "      <td>2.205887</td>\n",
       "      <td>0.138118</td>\n",
       "    </tr>\n",
       "    <tr>\n",
       "      <th>Residual</th>\n",
       "      <td>498.0</td>\n",
       "      <td>5.765923e+10</td>\n",
       "      <td>1.157816e+08</td>\n",
       "      <td>NaN</td>\n",
       "      <td>NaN</td>\n",
       "    </tr>\n",
       "  </tbody>\n",
       "</table>\n",
       "</div>"
      ],
      "text/plain": [
       "             df        sum_sq       mean_sq         F    PR(>F)\n",
       "gender      1.0  2.554010e+08  2.554010e+08  2.205887  0.138118\n",
       "Residual  498.0  5.765923e+10  1.157816e+08       NaN       NaN"
      ]
     },
     "execution_count": 58,
     "metadata": {},
     "output_type": "execute_result"
    }
   ],
   "source": [
    "base = ols(\"purchase_amount  ~ gender\", data = df).fit()\n",
    "sm.stats.anova_lm(base)"
   ]
  },
  {
   "cell_type": "markdown",
   "id": "300cc1dd",
   "metadata": {},
   "source": [
    "### Both category variables does not have much impact on target variable"
   ]
  },
  {
   "cell_type": "markdown",
   "id": "cb9c1608",
   "metadata": {},
   "source": [
    "### Checking for outliears"
   ]
  },
  {
   "cell_type": "code",
   "execution_count": 61,
   "id": "599a6131",
   "metadata": {},
   "outputs": [
    {
     "data": {
      "text/plain": [
       "<AxesSubplot:xlabel='age'>"
      ]
     },
     "execution_count": 61,
     "metadata": {},
     "output_type": "execute_result"
    },
    {
     "data": {
      "image/png": "[encoded data removed]",
      "text/plain": [
       "<Figure size 864x504 with 1 Axes>"
      ]
     },
     "metadata": {
      "needs_background": "light"
     },
     "output_type": "display_data"
    }
   ],
   "source": [
    "import seaborn as sns\n",
    "sns.boxplot(df.age)"
   ]
  },
  {
   "cell_type": "code",
   "execution_count": 64,
   "id": "245278ba",
   "metadata": {},
   "outputs": [
    {
     "name": "stdout",
     "output_type": "stream",
     "text": [
      "67.60570433625 24.956527026250004\n"
     ]
    }
   ],
   "source": [
    "IQR = df.age.quantile(0.75)-df.age.quantile(0.25)\n",
    "upper_limit = df.age.quantile(0.75) + (1.5*IQR)\n",
    "lower_limit = df.age.quantile(0.25) - (1.5*IQR)\n",
    "print(upper_limit,lower_limit )"
   ]
  },
  {
   "cell_type": "code",
   "execution_count": 65,
   "id": "58d5e2e4",
   "metadata": {},
   "outputs": [],
   "source": [
    "df[\"age\"] = np.where(df[\"age\"] > upper_limit,upper_limit,df[\"age\"])\n",
    "df[\"age\"]  = np.where(df[\"age\"] < lower_limit,lower_limit,df[\"age\"])"
   ]
  },
  {
   "cell_type": "code",
   "execution_count": 66,
   "id": "8e909211",
   "metadata": {},
   "outputs": [
    {
     "data": {
      "text/plain": [
       "<AxesSubplot:xlabel='age'>"
      ]
     },
     "execution_count": 66,
     "metadata": {},
     "output_type": "execute_result"
    },
    {
     "data": {
      "image/png": "[encoded data removed]",
      "text/plain": [
       "<Figure size 864x504 with 1 Axes>"
      ]
     },
     "metadata": {
      "needs_background": "light"
     },
     "output_type": "display_data"
    }
   ],
   "source": [
    "import seaborn as sns\n",
    "sns.boxplot(df.age)"
   ]
  },
  {
   "cell_type": "code",
   "execution_count": 69,
   "id": "b6324c0c",
   "metadata": {},
   "outputs": [
    {
     "data": {
      "text/plain": [
       "<AxesSubplot:xlabel='annual Salary'>"
      ]
     },
     "execution_count": 69,
     "metadata": {},
     "output_type": "execute_result"
    },
    {
     "data": {
      "image/png": "[encoded data removed]",
      "text/plain": [
       "<Figure size 864x504 with 1 Axes>"
      ]
     },
     "metadata": {
      "needs_background": "light"
     },
     "output_type": "display_data"
    }
   ],
   "source": [
    "sns.boxplot(df[\"annual Salary\"])"
   ]
  },
  {
   "cell_type": "code",
   "execution_count": 72,
   "id": "42a9e9e0",
   "metadata": {},
   "outputs": [
    {
     "data": {
      "text/plain": [
       "country             211\n",
       "gender                2\n",
       "age                 498\n",
       "annual Salary       500\n",
       "credit card debt    500\n",
       "net worth           500\n",
       "purchase_amount     500\n",
       "dtype: int64"
      ]
     },
     "execution_count": 72,
     "metadata": {},
     "output_type": "execute_result"
    }
   ],
   "source": [
    "df.nunique()"
   ]
  },
  {
   "cell_type": "code",
   "execution_count": 74,
   "id": "29b67837",
   "metadata": {},
   "outputs": [
    {
     "name": "stdout",
     "output_type": "stream",
     "text": [
      "93706.68922 30803.149979999995\n"
     ]
    }
   ],
   "source": [
    "IQR = df[\"annual Salary\"].quantile(0.75)-df[\"annual Salary\"].quantile(0.25)\n",
    "upper_limit = df[\"annual Salary\"].quantile(0.75) + (1.5*IQR)\n",
    "lower_limit = df[\"annual Salary\"].quantile(0.25) - (1.5*IQR)\n",
    "print(upper_limit,lower_limit )\n",
    "df[\"annual Salary\"] = np.where(df[\"annual Salary\"] > upper_limit,upper_limit,df[\"annual Salary\"])\n",
    "df[\"annual Salary\"]  = np.where(df[\"annual Salary\"] < lower_limit,lower_limit,df[\"annual Salary\"])"
   ]
  },
  {
   "cell_type": "code",
   "execution_count": 75,
   "id": "0f17b0bc",
   "metadata": {},
   "outputs": [
    {
     "data": {
      "text/plain": [
       "<AxesSubplot:xlabel='annual Salary'>"
      ]
     },
     "execution_count": 75,
     "metadata": {},
     "output_type": "execute_result"
    },
    {
     "data": {
      "image/png": "[encoded data removed]",
      "text/plain": [
       "<Figure size 864x504 with 1 Axes>"
      ]
     },
     "metadata": {
      "needs_background": "light"
     },
     "output_type": "display_data"
    }
   ],
   "source": [
    "sns.boxplot(df[\"annual Salary\"])"
   ]
  },
  {
   "cell_type": "code",
   "execution_count": 76,
   "id": "bf436172",
   "metadata": {},
   "outputs": [
    {
     "data": {
      "text/html": [
       "<div>\n",
       "<style scoped>\n",
       "    .dataframe tbody tr th:only-of-type {\n",
       "        vertical-align: middle;\n",
       "    }\n",
       "\n",
       "    .dataframe tbody tr th {\n",
       "        vertical-align: top;\n",
       "    }\n",
       "\n",
       "    .dataframe thead th {\n",
       "        text-align: right;\n",
       "    }\n",
       "</style>\n",
       "<table border=\"1\" class=\"dataframe\">\n",
       "  <thead>\n",
       "    <tr style=\"text-align: right;\">\n",
       "      <th></th>\n",
       "      <th>country</th>\n",
       "      <th>gender</th>\n",
       "      <th>age</th>\n",
       "      <th>annual Salary</th>\n",
       "      <th>credit card debt</th>\n",
       "      <th>net worth</th>\n",
       "      <th>purchase_amount</th>\n",
       "    </tr>\n",
       "  </thead>\n",
       "  <tbody>\n",
       "    <tr>\n",
       "      <th>0</th>\n",
       "      <td>Bulgaria</td>\n",
       "      <td>0</td>\n",
       "      <td>41.851720</td>\n",
       "      <td>62812.09301</td>\n",
       "      <td>11609.380910</td>\n",
       "      <td>238961.2505</td>\n",
       "      <td>35321.45877</td>\n",
       "    </tr>\n",
       "    <tr>\n",
       "      <th>1</th>\n",
       "      <td>Belize</td>\n",
       "      <td>0</td>\n",
       "      <td>40.870623</td>\n",
       "      <td>66646.89292</td>\n",
       "      <td>9572.957136</td>\n",
       "      <td>530973.9078</td>\n",
       "      <td>45115.52566</td>\n",
       "    </tr>\n",
       "    <tr>\n",
       "      <th>2</th>\n",
       "      <td>Algeria</td>\n",
       "      <td>1</td>\n",
       "      <td>43.152897</td>\n",
       "      <td>53798.55112</td>\n",
       "      <td>11160.355060</td>\n",
       "      <td>638467.1773</td>\n",
       "      <td>42925.70921</td>\n",
       "    </tr>\n",
       "    <tr>\n",
       "      <th>3</th>\n",
       "      <td>Cook Islands</td>\n",
       "      <td>1</td>\n",
       "      <td>58.271369</td>\n",
       "      <td>79370.03798</td>\n",
       "      <td>14426.164850</td>\n",
       "      <td>548599.0524</td>\n",
       "      <td>67422.36313</td>\n",
       "    </tr>\n",
       "    <tr>\n",
       "      <th>4</th>\n",
       "      <td>Brazil</td>\n",
       "      <td>1</td>\n",
       "      <td>57.313749</td>\n",
       "      <td>59729.15130</td>\n",
       "      <td>5358.712177</td>\n",
       "      <td>560304.0671</td>\n",
       "      <td>55915.46248</td>\n",
       "    </tr>\n",
       "    <tr>\n",
       "      <th>...</th>\n",
       "      <td>...</td>\n",
       "      <td>...</td>\n",
       "      <td>...</td>\n",
       "      <td>...</td>\n",
       "      <td>...</td>\n",
       "      <td>...</td>\n",
       "      <td>...</td>\n",
       "    </tr>\n",
       "    <tr>\n",
       "      <th>495</th>\n",
       "      <td>Nepal</td>\n",
       "      <td>0</td>\n",
       "      <td>41.462515</td>\n",
       "      <td>71942.40291</td>\n",
       "      <td>6995.902524</td>\n",
       "      <td>541670.1016</td>\n",
       "      <td>48901.44342</td>\n",
       "    </tr>\n",
       "    <tr>\n",
       "      <th>496</th>\n",
       "      <td>Zimbabwe</td>\n",
       "      <td>1</td>\n",
       "      <td>37.642000</td>\n",
       "      <td>56039.49793</td>\n",
       "      <td>12301.456790</td>\n",
       "      <td>360419.0988</td>\n",
       "      <td>31491.41457</td>\n",
       "    </tr>\n",
       "    <tr>\n",
       "      <th>497</th>\n",
       "      <td>Philippines</td>\n",
       "      <td>1</td>\n",
       "      <td>53.943497</td>\n",
       "      <td>68888.77805</td>\n",
       "      <td>10611.606860</td>\n",
       "      <td>764531.3203</td>\n",
       "      <td>64147.28888</td>\n",
       "    </tr>\n",
       "    <tr>\n",
       "      <th>498</th>\n",
       "      <td>Botswana</td>\n",
       "      <td>1</td>\n",
       "      <td>59.160509</td>\n",
       "      <td>49811.99062</td>\n",
       "      <td>14013.034510</td>\n",
       "      <td>337826.6382</td>\n",
       "      <td>45442.15353</td>\n",
       "    </tr>\n",
       "    <tr>\n",
       "      <th>499</th>\n",
       "      <td>marlal</td>\n",
       "      <td>1</td>\n",
       "      <td>46.731152</td>\n",
       "      <td>61370.67766</td>\n",
       "      <td>9391.341628</td>\n",
       "      <td>462946.4924</td>\n",
       "      <td>45107.22566</td>\n",
       "    </tr>\n",
       "  </tbody>\n",
       "</table>\n",
       "<p>500 rows × 7 columns</p>\n",
       "</div>"
      ],
      "text/plain": [
       "          country  gender        age  annual Salary  credit card debt  \\\n",
       "0        Bulgaria       0  41.851720    62812.09301      11609.380910   \n",
       "1          Belize       0  40.870623    66646.89292       9572.957136   \n",
       "2         Algeria       1  43.152897    53798.55112      11160.355060   \n",
       "3    Cook Islands       1  58.271369    79370.03798      14426.164850   \n",
       "4          Brazil       1  57.313749    59729.15130       5358.712177   \n",
       "..            ...     ...        ...            ...               ...   \n",
       "495         Nepal       0  41.462515    71942.40291       6995.902524   \n",
       "496      Zimbabwe       1  37.642000    56039.49793      12301.456790   \n",
       "497   Philippines       1  53.943497    68888.77805      10611.606860   \n",
       "498      Botswana       1  59.160509    49811.99062      14013.034510   \n",
       "499        marlal       1  46.731152    61370.67766       9391.341628   \n",
       "\n",
       "       net worth  purchase_amount  \n",
       "0    238961.2505      35321.45877  \n",
       "1    530973.9078      45115.52566  \n",
       "2    638467.1773      42925.70921  \n",
       "3    548599.0524      67422.36313  \n",
       "4    560304.0671      55915.46248  \n",
       "..           ...              ...  \n",
       "495  541670.1016      48901.44342  \n",
       "496  360419.0988      31491.41457  \n",
       "497  764531.3203      64147.28888  \n",
       "498  337826.6382      45442.15353  \n",
       "499  462946.4924      45107.22566  \n",
       "\n",
       "[500 rows x 7 columns]"
      ]
     },
     "execution_count": 76,
     "metadata": {},
     "output_type": "execute_result"
    }
   ],
   "source": [
    "df"
   ]
  },
  {
   "cell_type": "code",
   "execution_count": 78,
   "id": "60294cab",
   "metadata": {},
   "outputs": [
    {
     "data": {
      "text/plain": [
       "<AxesSubplot:xlabel='net worth'>"
      ]
     },
     "execution_count": 78,
     "metadata": {},
     "output_type": "execute_result"
    },
    {
     "data": {
      "image/png": "[encoded data removed]",
      "text/plain": [
       "<Figure size 864x504 with 1 Axes>"
      ]
     },
     "metadata": {
      "needs_background": "light"
     },
     "output_type": "display_data"
    }
   ],
   "source": [
    "sns.boxplot(df[\"net worth\"])"
   ]
  },
  {
   "cell_type": "code",
   "execution_count": 84,
   "id": "faf2fd18",
   "metadata": {},
   "outputs": [
    {
     "name": "stdout",
     "output_type": "stream",
     "text": [
      "943574.9029625 -86426.22833749995\n"
     ]
    }
   ],
   "source": [
    "IQR = df[\"net worth\"].quantile(0.75)-df[\"net worth\"].quantile(0.25)\n",
    "upper_limit = df[\"net worth\"].quantile(0.75) + (1.5*IQR)\n",
    "lower_limit = df[\"net worth\"].quantile(0.25) - (1.5*IQR)\n",
    "print(upper_limit,lower_limit )"
   ]
  },
  {
   "cell_type": "code",
   "execution_count": 85,
   "id": "91465a0a",
   "metadata": {},
   "outputs": [],
   "source": [
    "df[\"net worth\"] = np.where(df[\"net worth\"] > upper_limit,upper_limit,df[\"net worth\"])\n",
    "df[\"net worth\"]  = np.where(df[\"net worth\"] < lower_limit,lower_limit,df[\"net worth\"])"
   ]
  },
  {
   "cell_type": "code",
   "execution_count": 86,
   "id": "f5be298d",
   "metadata": {},
   "outputs": [
    {
     "data": {
      "text/plain": [
       "<AxesSubplot:xlabel='net worth'>"
      ]
     },
     "execution_count": 86,
     "metadata": {},
     "output_type": "execute_result"
    },
    {
     "data": {
      "image/png": "[encoded data removed]",
      "text/plain": [
       "<Figure size 864x504 with 1 Axes>"
      ]
     },
     "metadata": {
      "needs_background": "light"
     },
     "output_type": "display_data"
    }
   ],
   "source": [
    "sns.boxplot(df[\"net worth\"])"
   ]
  },
  {
   "cell_type": "markdown",
   "id": "5aaa5993",
   "metadata": {},
   "source": [
    "### Removed all outliears "
   ]
  },
  {
   "cell_type": "code",
   "execution_count": 88,
   "id": "ab83783d",
   "metadata": {},
   "outputs": [],
   "source": [
    "df=df.drop([\"country\",\"gender\"], axis=1)"
   ]
  },
  {
   "cell_type": "code",
   "execution_count": 89,
   "id": "18caaa35",
   "metadata": {},
   "outputs": [
    {
     "data": {
      "text/html": [
       "<div>\n",
       "<style scoped>\n",
       "    .dataframe tbody tr th:only-of-type {\n",
       "        vertical-align: middle;\n",
       "    }\n",
       "\n",
       "    .dataframe tbody tr th {\n",
       "        vertical-align: top;\n",
       "    }\n",
       "\n",
       "    .dataframe thead th {\n",
       "        text-align: right;\n",
       "    }\n",
       "</style>\n",
       "<table border=\"1\" class=\"dataframe\">\n",
       "  <thead>\n",
       "    <tr style=\"text-align: right;\">\n",
       "      <th></th>\n",
       "      <th>age</th>\n",
       "      <th>annual Salary</th>\n",
       "      <th>credit card debt</th>\n",
       "      <th>net worth</th>\n",
       "      <th>purchase_amount</th>\n",
       "    </tr>\n",
       "  </thead>\n",
       "  <tbody>\n",
       "    <tr>\n",
       "      <th>0</th>\n",
       "      <td>41.851720</td>\n",
       "      <td>62812.09301</td>\n",
       "      <td>11609.380910</td>\n",
       "      <td>238961.2505</td>\n",
       "      <td>35321.45877</td>\n",
       "    </tr>\n",
       "    <tr>\n",
       "      <th>1</th>\n",
       "      <td>40.870623</td>\n",
       "      <td>66646.89292</td>\n",
       "      <td>9572.957136</td>\n",
       "      <td>530973.9078</td>\n",
       "      <td>45115.52566</td>\n",
       "    </tr>\n",
       "    <tr>\n",
       "      <th>2</th>\n",
       "      <td>43.152897</td>\n",
       "      <td>53798.55112</td>\n",
       "      <td>11160.355060</td>\n",
       "      <td>638467.1773</td>\n",
       "      <td>42925.70921</td>\n",
       "    </tr>\n",
       "    <tr>\n",
       "      <th>3</th>\n",
       "      <td>58.271369</td>\n",
       "      <td>79370.03798</td>\n",
       "      <td>14426.164850</td>\n",
       "      <td>548599.0524</td>\n",
       "      <td>67422.36313</td>\n",
       "    </tr>\n",
       "    <tr>\n",
       "      <th>4</th>\n",
       "      <td>57.313749</td>\n",
       "      <td>59729.15130</td>\n",
       "      <td>5358.712177</td>\n",
       "      <td>560304.0671</td>\n",
       "      <td>55915.46248</td>\n",
       "    </tr>\n",
       "    <tr>\n",
       "      <th>...</th>\n",
       "      <td>...</td>\n",
       "      <td>...</td>\n",
       "      <td>...</td>\n",
       "      <td>...</td>\n",
       "      <td>...</td>\n",
       "    </tr>\n",
       "    <tr>\n",
       "      <th>495</th>\n",
       "      <td>41.462515</td>\n",
       "      <td>71942.40291</td>\n",
       "      <td>6995.902524</td>\n",
       "      <td>541670.1016</td>\n",
       "      <td>48901.44342</td>\n",
       "    </tr>\n",
       "    <tr>\n",
       "      <th>496</th>\n",
       "      <td>37.642000</td>\n",
       "      <td>56039.49793</td>\n",
       "      <td>12301.456790</td>\n",
       "      <td>360419.0988</td>\n",
       "      <td>31491.41457</td>\n",
       "    </tr>\n",
       "    <tr>\n",
       "      <th>497</th>\n",
       "      <td>53.943497</td>\n",
       "      <td>68888.77805</td>\n",
       "      <td>10611.606860</td>\n",
       "      <td>764531.3203</td>\n",
       "      <td>64147.28888</td>\n",
       "    </tr>\n",
       "    <tr>\n",
       "      <th>498</th>\n",
       "      <td>59.160509</td>\n",
       "      <td>49811.99062</td>\n",
       "      <td>14013.034510</td>\n",
       "      <td>337826.6382</td>\n",
       "      <td>45442.15353</td>\n",
       "    </tr>\n",
       "    <tr>\n",
       "      <th>499</th>\n",
       "      <td>46.731152</td>\n",
       "      <td>61370.67766</td>\n",
       "      <td>9391.341628</td>\n",
       "      <td>462946.4924</td>\n",
       "      <td>45107.22566</td>\n",
       "    </tr>\n",
       "  </tbody>\n",
       "</table>\n",
       "<p>500 rows × 5 columns</p>\n",
       "</div>"
      ],
      "text/plain": [
       "           age  annual Salary  credit card debt    net worth  purchase_amount\n",
       "0    41.851720    62812.09301      11609.380910  238961.2505      35321.45877\n",
       "1    40.870623    66646.89292       9572.957136  530973.9078      45115.52566\n",
       "2    43.152897    53798.55112      11160.355060  638467.1773      42925.70921\n",
       "3    58.271369    79370.03798      14426.164850  548599.0524      67422.36313\n",
       "4    57.313749    59729.15130       5358.712177  560304.0671      55915.46248\n",
       "..         ...            ...               ...          ...              ...\n",
       "495  41.462515    71942.40291       6995.902524  541670.1016      48901.44342\n",
       "496  37.642000    56039.49793      12301.456790  360419.0988      31491.41457\n",
       "497  53.943497    68888.77805      10611.606860  764531.3203      64147.28888\n",
       "498  59.160509    49811.99062      14013.034510  337826.6382      45442.15353\n",
       "499  46.731152    61370.67766       9391.341628  462946.4924      45107.22566\n",
       "\n",
       "[500 rows x 5 columns]"
      ]
     },
     "execution_count": 89,
     "metadata": {},
     "output_type": "execute_result"
    }
   ],
   "source": [
    "df"
   ]
  },
  {
   "cell_type": "markdown",
   "id": "f89200e0",
   "metadata": {},
   "source": [
    "###  Standardize the data using the anyone of the scalers provided by sklearn"
   ]
  },
  {
   "cell_type": "code",
   "execution_count": 90,
   "id": "f4df6c9b",
   "metadata": {},
   "outputs": [],
   "source": [
    "from sklearn.preprocessing import StandardScaler\n",
    "from sklearn.preprocessing import MinMaxScaler"
   ]
  },
  {
   "cell_type": "code",
   "execution_count": 92,
   "id": "92d58724",
   "metadata": {},
   "outputs": [],
   "source": [
    "M_Scaler = MinMaxScaler()\n",
    "Columns = df.columns"
   ]
  },
  {
   "cell_type": "code",
   "execution_count": 94,
   "id": "ba13beb8",
   "metadata": {},
   "outputs": [],
   "source": [
    "df=M_Scaler.fit_transform(df)"
   ]
  },
  {
   "cell_type": "code",
   "execution_count": 95,
   "id": "f9f6c8e3",
   "metadata": {},
   "outputs": [
    {
     "data": {
      "text/plain": [
       "array([[0.39614346, 0.50885758, 0.57836085, 0.23708012, 0.37072477],\n",
       "       [0.37313959, 0.56982077, 0.476028  , 0.5532566 , 0.50866938],\n",
       "       [0.42665232, 0.36556609, 0.55579674, 0.66964485, 0.47782689],\n",
       "       ...,\n",
       "       [0.67966071, 0.60546081, 0.52822145, 0.8061407 , 0.77672238],\n",
       "       [0.80198456, 0.30219032, 0.69914746, 0.34412654, 0.51326977],\n",
       "       [0.51055206, 0.48594289, 0.46690159, 0.47959997, 0.50855247]])"
      ]
     },
     "execution_count": 95,
     "metadata": {},
     "output_type": "execute_result"
    }
   ],
   "source": [
    "df"
   ]
  },
  {
   "cell_type": "code",
   "execution_count": 97,
   "id": "c3f02818",
   "metadata": {},
   "outputs": [],
   "source": [
    "df = pd.DataFrame(df, columns=Columns)"
   ]
  },
  {
   "cell_type": "code",
   "execution_count": 98,
   "id": "1c992753",
   "metadata": {},
   "outputs": [
    {
     "data": {
      "text/html": [
       "<div>\n",
       "<style scoped>\n",
       "    .dataframe tbody tr th:only-of-type {\n",
       "        vertical-align: middle;\n",
       "    }\n",
       "\n",
       "    .dataframe tbody tr th {\n",
       "        vertical-align: top;\n",
       "    }\n",
       "\n",
       "    .dataframe thead th {\n",
       "        text-align: right;\n",
       "    }\n",
       "</style>\n",
       "<table border=\"1\" class=\"dataframe\">\n",
       "  <thead>\n",
       "    <tr style=\"text-align: right;\">\n",
       "      <th></th>\n",
       "      <th>age</th>\n",
       "      <th>annual Salary</th>\n",
       "      <th>credit card debt</th>\n",
       "      <th>net worth</th>\n",
       "      <th>purchase_amount</th>\n",
       "    </tr>\n",
       "  </thead>\n",
       "  <tbody>\n",
       "    <tr>\n",
       "      <th>0</th>\n",
       "      <td>0.396143</td>\n",
       "      <td>0.508858</td>\n",
       "      <td>0.578361</td>\n",
       "      <td>0.237080</td>\n",
       "      <td>0.370725</td>\n",
       "    </tr>\n",
       "    <tr>\n",
       "      <th>1</th>\n",
       "      <td>0.373140</td>\n",
       "      <td>0.569821</td>\n",
       "      <td>0.476028</td>\n",
       "      <td>0.553257</td>\n",
       "      <td>0.508669</td>\n",
       "    </tr>\n",
       "    <tr>\n",
       "      <th>2</th>\n",
       "      <td>0.426652</td>\n",
       "      <td>0.365566</td>\n",
       "      <td>0.555797</td>\n",
       "      <td>0.669645</td>\n",
       "      <td>0.477827</td>\n",
       "    </tr>\n",
       "    <tr>\n",
       "      <th>3</th>\n",
       "      <td>0.781137</td>\n",
       "      <td>0.772085</td>\n",
       "      <td>0.719908</td>\n",
       "      <td>0.572340</td>\n",
       "      <td>0.822850</td>\n",
       "    </tr>\n",
       "    <tr>\n",
       "      <th>4</th>\n",
       "      <td>0.758683</td>\n",
       "      <td>0.459847</td>\n",
       "      <td>0.264257</td>\n",
       "      <td>0.585014</td>\n",
       "      <td>0.660781</td>\n",
       "    </tr>\n",
       "    <tr>\n",
       "      <th>...</th>\n",
       "      <td>...</td>\n",
       "      <td>...</td>\n",
       "      <td>...</td>\n",
       "      <td>...</td>\n",
       "      <td>...</td>\n",
       "    </tr>\n",
       "    <tr>\n",
       "      <th>495</th>\n",
       "      <td>0.387018</td>\n",
       "      <td>0.654005</td>\n",
       "      <td>0.346528</td>\n",
       "      <td>0.564838</td>\n",
       "      <td>0.561992</td>\n",
       "    </tr>\n",
       "    <tr>\n",
       "      <th>496</th>\n",
       "      <td>0.297438</td>\n",
       "      <td>0.401191</td>\n",
       "      <td>0.613139</td>\n",
       "      <td>0.368589</td>\n",
       "      <td>0.316780</td>\n",
       "    </tr>\n",
       "    <tr>\n",
       "      <th>497</th>\n",
       "      <td>0.679661</td>\n",
       "      <td>0.605461</td>\n",
       "      <td>0.528221</td>\n",
       "      <td>0.806141</td>\n",
       "      <td>0.776722</td>\n",
       "    </tr>\n",
       "    <tr>\n",
       "      <th>498</th>\n",
       "      <td>0.801985</td>\n",
       "      <td>0.302190</td>\n",
       "      <td>0.699147</td>\n",
       "      <td>0.344127</td>\n",
       "      <td>0.513270</td>\n",
       "    </tr>\n",
       "    <tr>\n",
       "      <th>499</th>\n",
       "      <td>0.510552</td>\n",
       "      <td>0.485943</td>\n",
       "      <td>0.466902</td>\n",
       "      <td>0.479600</td>\n",
       "      <td>0.508552</td>\n",
       "    </tr>\n",
       "  </tbody>\n",
       "</table>\n",
       "<p>500 rows × 5 columns</p>\n",
       "</div>"
      ],
      "text/plain": [
       "          age  annual Salary  credit card debt  net worth  purchase_amount\n",
       "0    0.396143       0.508858          0.578361   0.237080         0.370725\n",
       "1    0.373140       0.569821          0.476028   0.553257         0.508669\n",
       "2    0.426652       0.365566          0.555797   0.669645         0.477827\n",
       "3    0.781137       0.772085          0.719908   0.572340         0.822850\n",
       "4    0.758683       0.459847          0.264257   0.585014         0.660781\n",
       "..        ...            ...               ...        ...              ...\n",
       "495  0.387018       0.654005          0.346528   0.564838         0.561992\n",
       "496  0.297438       0.401191          0.613139   0.368589         0.316780\n",
       "497  0.679661       0.605461          0.528221   0.806141         0.776722\n",
       "498  0.801985       0.302190          0.699147   0.344127         0.513270\n",
       "499  0.510552       0.485943          0.466902   0.479600         0.508552\n",
       "\n",
       "[500 rows x 5 columns]"
      ]
     },
     "execution_count": 98,
     "metadata": {},
     "output_type": "execute_result"
    }
   ],
   "source": [
    "df"
   ]
  },
  {
   "cell_type": "markdown",
   "id": "e9608214",
   "metadata": {},
   "source": [
    "# Building Model"
   ]
  },
  {
   "cell_type": "code",
   "execution_count": 100,
   "id": "c61645ba",
   "metadata": {},
   "outputs": [],
   "source": [
    "x = df.drop([\"purchase_amount\"],axis=1)\n",
    "y = df.purchase_amount"
   ]
  },
  {
   "cell_type": "code",
   "execution_count": 109,
   "id": "e99b1ce9",
   "metadata": {},
   "outputs": [],
   "source": [
    "from sklearn.model_selection import train_test_split\n",
    "X_train, X_test, y_train, y_test = train_test_split(x,y,train_size=0.75)"
   ]
  },
  {
   "cell_type": "code",
   "execution_count": 110,
   "id": "b00171ec",
   "metadata": {},
   "outputs": [
    {
     "name": "stdout",
     "output_type": "stream",
     "text": [
      "Coefficient [ 0.51009005  0.50261271 -0.00058444  0.37423136] intercept -0.1753739953025687\n",
      "The R_square is:  0.998\n"
     ]
    }
   ],
   "source": [
    "from sklearn.linear_model import LinearRegression\n",
    "lm = LinearRegression(fit_intercept=True,n_jobs=200)\n",
    "lm.fit(X_train,y_train)\n",
    "print(\"Coefficient\", lm.coef_ , \"intercept\", lm.intercept_)\n",
    "print(\"The R_square is: \", round(lm.score (X_test,y_test),3))"
   ]
  },
  {
   "cell_type": "code",
   "execution_count": 111,
   "id": "985c9aee",
   "metadata": {},
   "outputs": [
    {
     "name": "stdout",
     "output_type": "stream",
     "text": [
      "0.9984369692854196 0.9987253580038244\n"
     ]
    }
   ],
   "source": [
    "accuracy=lm.score(X_test,y_test)\n",
    "accuracy_train=lm.score(X_train,y_train)\n",
    "print(accuracy,accuracy_train)"
   ]
  },
  {
   "cell_type": "code",
   "execution_count": 117,
   "id": "95753ef3",
   "metadata": {},
   "outputs": [],
   "source": [
    "y_pre=lm.predict(X_test)"
   ]
  },
  {
   "cell_type": "code",
   "execution_count": 118,
   "id": "76de795e",
   "metadata": {},
   "outputs": [
    {
     "data": {
      "image/png": "[encoded data removed]",
      "text/plain": [
       "<Figure size 864x504 with 1 Axes>"
      ]
     },
     "metadata": {
      "needs_background": "light"
     },
     "output_type": "display_data"
    }
   ],
   "source": [
    "sns.regplot(x=y_test,y=y_pre,ci=None,color='r')\n",
    "plt.scatter(y_test,y_pre)\n",
    "plt.show()"
   ]
  },
  {
   "cell_type": "markdown",
   "id": "c3c0b3ba",
   "metadata": {},
   "source": [
    "### Decission Tree"
   ]
  },
  {
   "cell_type": "code",
   "execution_count": 119,
   "id": "d5d4f437",
   "metadata": {},
   "outputs": [
    {
     "name": "stdout",
     "output_type": "stream",
     "text": [
      "0.8596936623692539 1.0\n"
     ]
    }
   ],
   "source": [
    "from sklearn.tree import DecisionTreeRegressor\n",
    "\n",
    "DecisionTree_model=DecisionTreeRegressor()\n",
    "DecisionTree_model.fit(X_train,y_train)\n",
    "accuracy=DecisionTree_model.score(X_test,y_test)\n",
    "accuracy_train=DecisionTree_model.score(X_train,y_train)\n",
    "print(accuracy,accuracy_train)"
   ]
  },
  {
   "cell_type": "code",
   "execution_count": 120,
   "id": "740cd38c",
   "metadata": {},
   "outputs": [],
   "source": [
    "y_pre=DecisionTree_model.predict(X_test)"
   ]
  },
  {
   "cell_type": "code",
   "execution_count": 121,
   "id": "df3c11ce",
   "metadata": {},
   "outputs": [
    {
     "data": {
      "image/png": "[encoded data removed]",
      "text/plain": [
       "<Figure size 864x504 with 1 Axes>"
      ]
     },
     "metadata": {
      "needs_background": "light"
     },
     "output_type": "display_data"
    }
   ],
   "source": [
    "sns.regplot(x=y_test,y=y_pre,ci=None,color='r')\n",
    "plt.scatter(y_test,y_pre)\n",
    "plt.show()"
   ]
  },
  {
   "cell_type": "markdown",
   "id": "3a7b870a",
   "metadata": {},
   "source": [
    "### Random Forest"
   ]
  },
  {
   "cell_type": "code",
   "execution_count": 122,
   "id": "0e55f67f",
   "metadata": {},
   "outputs": [
    {
     "name": "stdout",
     "output_type": "stream",
     "text": [
      "0.9475165483072304 1.0\n"
     ]
    }
   ],
   "source": [
    "from sklearn.ensemble import RandomForestRegressor\n",
    "\n",
    "RandomForest_model=RandomForestRegressor()\n",
    "RandomForest_model.fit(X_train,y_train)\n",
    "accuracy=RandomForest_model.score(X_test,y_test)\n",
    "accuracy_train=DecisionTree_model.score(X_train,y_train)\n",
    "print(accuracy,accuracy_train)"
   ]
  },
  {
   "cell_type": "code",
   "execution_count": 123,
   "id": "9828c20c",
   "metadata": {},
   "outputs": [],
   "source": [
    "y_pre=RandomForest_model.predict(X_test)"
   ]
  },
  {
   "cell_type": "code",
   "execution_count": 124,
   "id": "7044e047",
   "metadata": {},
   "outputs": [
    {
     "data": {
      "image/png": "[encoded data removed]",
      "text/plain": [
       "<Figure size 864x504 with 1 Axes>"
      ]
     },
     "metadata": {
      "needs_background": "light"
     },
     "output_type": "display_data"
    }
   ],
   "source": [
    "sns.regplot(x=y_test,y=y_pre,ci=None,color='r')\n",
    "plt.scatter(y_test,y_pre)\n",
    "plt.show()"
   ]
  },
  {
   "cell_type": "markdown",
   "id": "02559fca",
   "metadata": {},
   "source": [
    "# Out of all model linear regression gives as best accuracy of 98%"
   ]
  },
  {
   "cell_type": "markdown",
   "id": "0cfab450",
   "metadata": {},
   "source": [
    "# End"
   ]
  }
 ],
 "metadata": {
  "kernelspec": {
   "display_name": "Python 3 (ipykernel)",
   "language": "python",
   "name": "python3"
  },
  "language_info": {
   "codemirror_mode": {
    "name": "ipython",
    "version": 3
   },
   "file_extension": ".py",
   "mimetype": "text/x-python",
   "name": "python",
   "nbconvert_exporter": "python",
   "pygments_lexer": "ipython3",
   "version": "3.9.12"
  }
 },
 "nbformat": 4,
 "nbformat_minor": 5
}
